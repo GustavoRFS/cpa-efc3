{
  "nbformat": 4,
  "nbformat_minor": 0,
  "metadata": {
    "colab": {
      "provenance": [],
      "collapsed_sections": []
    },
    "kernelspec": {
      "name": "python3",
      "display_name": "Python 3"
    },
    "language_info": {
      "name": "python"
    }
  },
  "cells": [
    {
      "cell_type": "markdown",
      "source": [
        "# EFC 3\n",
        "Autores: Felipe de Oliveira Fernandes e Gustavo Ribeiro da Fonseca Santos\n",
        "\n",
        "[Repositório do GitHub](https://github.com/GustavoRFS/cpa-efc3)"
      ],
      "metadata": {
        "id": "Rvv1hgxt85U6"
      }
    },
    {
      "cell_type": "markdown",
      "source": [
        "# 1. (42%) Defina com detalhes 𝒩𝒫 𝐶𝑜𝑚𝑝𝑙𝑒𝑡𝑢𝑑𝑒. Forneça todas as definições, conceitos e características necessários para explicar essa teoria. Dê exemplos."
      ],
      "metadata": {
        "id": "CNiOkXqC88JU"
      }
    },
    {
      "cell_type": "markdown",
      "source": [
        "## a. Explique problemas, problemas de decisão e de otimização e instância de um problema"
      ],
      "metadata": {
        "id": "hYjblOkO9RIO"
      }
    },
    {
      "cell_type": "markdown",
      "source": [
        " Um problema é uma pergunta que possui alguma relevância a ser respondidada, essa pergunta contem uma descrição geral dos seus parâmetros e uma expressão do que deve ter como resposta. Um problema considerado na teoria sobre NP-Completude pode ser divido em três categorias pelo seu tempo de execução:\n",
        "\n",
        "1.   Problemas que são resolvidos em tempo polinomial O(n^c), onde n é o tamanho da entrada e c ∈ ℝ∗\n",
        "2.   Os problemas que, aparentemente, não possuem limite inferior\n",
        "com complexidade intrinsecamente polinomial.\n",
        "3.   O problemas que são resolvidos por algoritmos com limite inferior\n",
        "não polinomial de crescimento assintótico da função que representa\n",
        "seu tempo de execução.\n",
        "\n",
        "Outra divisão existente é entre problemas tratáveis e intrataveis, normalmente os autores referem os problemas trataveis como problemas resolvidos em tempo de execução polinomial.\n",
        "\n",
        "Os problemas de decisão são aqueles no qual existe apenas duas respostas, sim ou não, aceita ou não aceita. Ex:  verificar se existe raiz de uma equação do segundo grau.\n",
        "\n",
        "Os problemas de otimização são aqueles que se busca o melhor resultado dentro um conjunto de possíveis respostas. Ex: buscar o menor caminho de um dado vértice até outro em um grafo.\n",
        "\n"
      ],
      "metadata": {
        "id": "W_YWkTpUAqYw"
      }
    },
    {
      "cell_type": "markdown",
      "source": [
        "## b. Explique algoritmos, tempo de execução de algoritmo, tamanho da entrada de algoritmos.\n"
      ],
      "metadata": {
        "id": "7XR_YzJH9ZSi"
      }
    },
    {
      "cell_type": "markdown",
      "source": [
        "Algoritmo é uma determinada sequência finita de etapas que, dado uma entrada, gera um resultado determinado. Ex: A receita de um bolo descreve determinados passos que, se seguidos corretamente, consumirá os ingredientes (entradas) e resultará em um bolo (resultado).\n",
        "\n",
        "Tempo de execução de um algoritmo é o tempo gasto por um determinado algoritmo e pode ser definido a priori e a posteriori. A priori, podemos analisar quantos passos um algoritmo faz para finalizar e, dessa forma, calcular o tempo. A posteriori, podemos analisar o tempo que um determinado computador levou para executar um algoritmo por completo. Com essas analises, podemos verificar se um algoritmo é P ou NP.\n",
        "\n",
        "Tamanho da entrada de algoritmos é a quantidade de elementos da coleção de entrada em que o algoritmo percorre para gerar o resultado. Ex: a quantidade de elementos em uma lista."
      ],
      "metadata": {
        "id": "DGAIJKl5f0aO"
      }
    },
    {
      "cell_type": "markdown",
      "source": [
        "## c. A 𝒩𝒫 𝐶𝑜𝑚𝑝𝑙𝑒𝑡𝑢𝑑𝑒 só trata de problemas de decisão? Por quê? Faça uma resposta abrangente, inclua outros problemas."
      ],
      "metadata": {
        "id": "JqY9XSav9cQk"
      }
    },
    {
      "cell_type": "markdown",
      "source": [
        "Não, a NP completude, trata todos os tipos de problema, agrupando-os de acordo com sua complexidade, a NP completudo contem a classificação N, NP, NP-dificil e NP-Completo. A classe P são problemas que são resolvidos em tempo polinomial, como ordenar um arranjo, realizar um quadrado perfeito. A proxima classe, os NP, não se sabe se existe uma solução polinomial para o problema porem, dado uma prova, testemunha , ele consegue em tempo polinomial decidir se a prova é aceita ou não. Já os NP-dificeis são os problemas que são pelo menos tão dificil quando os NP, ou seja, podem reduzir para um NP, por fim os NP-completos são os problemas que são NP-dificies e NP ao mesmo tempo, como exemplo temos o SAT,SAT3,Clique.  "
      ],
      "metadata": {
        "id": "PN8Or-Vzs5WV"
      }
    },
    {
      "cell_type": "markdown",
      "source": [
        "## d. Explique em que situações pode-se afirmar que um problema pertence a classe 𝒩𝒫\n"
      ],
      "metadata": {
        "id": "8G7Y0hEe9ge9"
      }
    },
    {
      "cell_type": "markdown",
      "source": [
        "Um problema pertence a classe NP quando dado uma prova, ele consegue em tempo polinomial validar essa prova, retornando sim ou não. Mas não é possível afirmar que é possível gerar um resultado sem a prova em tempo polinomial, pode existir um algoritmo não conhecido para o problema ou pode não existir, por exemplo, não sabemos se existe uma solução polinomial para o ciclo hamiltoniano"
      ],
      "metadata": {
        "id": "1RQR2_kOw8f2"
      }
    },
    {
      "cell_type": "markdown",
      "source": [
        "## e. Explique as classes 𝒫 e 𝒩𝒫, incluindo termos de linguagem de máquinas de Turing.\n"
      ],
      "metadata": {
        "id": "XWX-agdb9jbc"
      }
    },
    {
      "cell_type": "markdown",
      "source": [
        "P é a classe cujos problemas são resolvidos em tempo polinomial e que possuem soluções (algorítmos) determinísticos.\n",
        "\n",
        "NP é a classe cujos problemas que possuem soluções não-determinísticas (até então) e que possuem um algoritmo verificador que são resolvidos em tempo polinomial."
      ],
      "metadata": {
        "id": "fzkGkBTPyjxy"
      }
    },
    {
      "cell_type": "markdown",
      "source": [
        "## f. Qual a importância das reduções polinomiais no contexto de 𝒩𝒫 𝐶𝑜𝑚𝑝𝑙𝑒𝑡𝑢𝑑𝑒.\n"
      ],
      "metadata": {
        "id": "rEGbubwJ9nUR"
      }
    },
    {
      "cell_type": "markdown",
      "source": [
        "As reduções são importantes pois através deles é possível resolver problemas por métodos já existentes, apenas fazendo um modo de transformar um problema no outro(reduzir), através disso podemos demonstrar a qual a classe do problema ou resolver de maneira mais simples, como exemplo temos a redução de equação do segundo grau para quadrado perfeito."
      ],
      "metadata": {
        "id": "G3pDhUHKveus"
      }
    },
    {
      "cell_type": "markdown",
      "source": [
        "## g. Defina as classes 𝒩𝒫 Completo e 𝒩𝒫 Difícil e as relações entre elas e com as classes 𝒫 e 𝒩𝒫"
      ],
      "metadata": {
        "id": "pdlF6Jks9p5W"
      }
    },
    {
      "cell_type": "markdown",
      "source": [
        "Um problema NP Dificil se for pelo menos tão difícil quanto qualquer problema em NP, ou seja ele é pelo menos tão complexo quanto os problemas NP, já os problemas NP-Completo é um problema NP Dificil e ao mesmo tempo NP. Sendo que um problema NP é um problema que dada uma prova, ele consegue validar uma resposta(sim ou não) em um tempo polinomial, caso não seja dada uma prova não é possível afimar que ele é P, enquanto os problemas P são aqueles que  podem ser resolvidos em tempo polinomial."
      ],
      "metadata": {
        "id": "bsiyXIUKxqoI"
      }
    },
    {
      "cell_type": "markdown",
      "source": [
        "# 2. (29%) Considere que SAT pertence a classe 𝒩𝒫-Completo. Prove que SAT ∝ 3SAT."
      ],
      "metadata": {
        "id": "fJQ8UQy69EAD"
      }
    },
    {
      "cell_type": "markdown",
      "source": [
        "Para reduzir SAT para 3SAT temos que dada uma entrada de SAT gerar uma entrada de 3SAT que é caso a entrada reduzida para 3SAT é aceita se e somente se a entrada é aceita por SAT. Para fazer a redução transformamos as cláusulas com mais de três clausulas no seguinte formato (x1 ∨ x2 ∨…xk) em (x1 ∨ x2 ∨ y1)∧( ¬y1 ∨ x3 ∨ y2)⋯( ¬yk−3 ∨ xk−1 ∨ xk), as clausulas com dois elementos em (x1 V x2) em ( x1 ∨ x2 ∨ y)∧(x1 ∨ x2 ∨ ¬y) e as clausulas de um elemento em = (x ∨ y ∨ z)∧(x ∨ ¬y ∨ z)∧(x ∨ y ∨\n",
        "¬z)∧(x ∨ ¬y ∨ ¬z), onde y e z são novas váriaveis. Com isso reduzimos SAT para 3SAT. O resultado do 3SAT nesse caso independe das váriaveis inseridas, já que caso xi seja verdadeiro sua clausula é aceita. Logo o 3SAT aceita sempre que SAT aceita "
      ],
      "metadata": {
        "id": "xLFCO_41Ha12"
      }
    },
    {
      "cell_type": "markdown",
      "source": [
        "# 3. (29%) Explique os problemas 3SAT e CLIQUE. Considere que 3SAT pertence a classe 𝒩𝒫-Completo. Prove que o CLIQUE pertence a classe 𝒩𝒫-Completo.\n"
      ],
      "metadata": {
        "id": "R02WHvYO9IlL"
      }
    },
    {
      "cell_type": "markdown",
      "source": [
        "O problema 3SAT é dada uma série de cláusulas, cada uma com 3 elementos booleanas, responder se a saída é aceita ou não(Verdadeiro ou falso). Ex: (X1 V X2 V X3)  ∧ (X4 V X5 V X6).Já o problema CLIQUE tem como objetivo responder se existem um subgrafo completo com k vérticies dentro de um dado grafo. Dada um problema NP-Completo caso seja possível resolver um outro problema ao primeiro, logo esse segundo algoritmo também é NP-Completo. Como 3SAT é NP-Completo reduziremos o clique para ele, demonstrando que ele é NP-Completo. Para realizar a redução, pegamos cada uma das cláusulas do 3sat em um vértice. Após isso ligamos todas as arestas, exceto entre vérticies de uma mesma cláusula e elementos complementares(X1 e ¬X1). Com o grafo formado, caso o problema 3SAT seja sim o problema Clique também será sim para os K números de clausulas. Caso o problema do Clique retorne um Não, o 3Sat também terá um não. Logo o 3Sat pode ser reduzido ao problema do clique, assim ele também é NP-Completo\n",
        "\n"
      ],
      "metadata": {
        "id": "3cM9OB9hVr87"
      }
    },
    {
      "cell_type": "markdown",
      "source": [
        "# 4. (EXTRA) Escolha um problema que pertence a classe 𝒩𝒫 faça a sua programação em python e mostre graficamente a complexidade de tempo deste algoritmo em relação o crescimento da entrada."
      ],
      "metadata": {
        "id": "-5_Vqx7f9LGP"
      }
    }
  ]
}